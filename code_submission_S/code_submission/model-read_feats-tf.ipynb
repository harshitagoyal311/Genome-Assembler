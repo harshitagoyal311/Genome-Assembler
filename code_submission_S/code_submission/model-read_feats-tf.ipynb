{
 "cells": [
  {
   "cell_type": "code",
   "execution_count": 1,
   "metadata": {
    "collapsed": false
   },
   "outputs": [
    {
     "name": "stderr",
     "output_type": "stream",
     "text": [
      "/usr/local/lib/python2.7/site-packages/sklearn/cross_validation.py:44: DeprecationWarning: This module was deprecated in version 0.18 in favor of the model_selection module into which all the refactored classes and functions are moved. Also note that the interface of the new CV iterators are different from that of this module. This module will be removed in 0.20.\n",
      "  \"This module will be removed in 0.20.\", DeprecationWarning)\n",
      "/usr/local/lib/python2.7/site-packages/matplotlib/font_manager.py:273: UserWarning: Matplotlib is building the font cache using fc-list. This may take a moment.\n",
      "  warnings.warn('Matplotlib is building the font cache using fc-list. This may take a moment.')\n"
     ]
    }
   ],
   "source": [
    "\n",
    "import gc\n",
    "import time\n",
    "import numpy as np \n",
    "import pandas as pd \n",
    "import xgboost\n",
    "from sklearn.model_selection import train_test_split\n",
    "from sklearn.metrics import log_loss, accuracy_score , f1_score, confusion_matrix\n",
    "from sklearn.ensemble import RandomForestClassifier\n",
    "from sklearn.linear_model import LogisticRegression\n",
    "from sklearn import svm\n",
    "\n",
    "import itertools\n",
    "\n",
    "import xgboost as xgb\n",
    "import matplotlib.pyplot as plt\n",
    "import seaborn as sns\n",
    "import re\n",
    "pd.set_option('display.max_columns', 500)\n",
    "\n",
    "% matplotlib inline\n",
    "\n"
   ]
  },
  {
   "cell_type": "code",
   "execution_count": 2,
   "metadata": {
    "collapsed": false
   },
   "outputs": [],
   "source": [
    "df= pd.read_csv('../../data/branch/perga_60y_br.csv')"
   ]
  },
  {
   "cell_type": "code",
   "execution_count": 3,
   "metadata": {
    "collapsed": false
   },
   "outputs": [
    {
     "data": {
      "text/plain": [
       "(27808, 18)"
      ]
     },
     "execution_count": 3,
     "metadata": {},
     "output_type": "execute_result"
    }
   ],
   "source": [
    "df.shape"
   ]
  },
  {
   "cell_type": "code",
   "execution_count": 4,
   "metadata": {
    "collapsed": false
   },
   "outputs": [
    {
     "data": {
      "text/html": [
       "<div>\n",
       "<style>\n",
       "    .dataframe thead tr:only-child th {\n",
       "        text-align: right;\n",
       "    }\n",
       "\n",
       "    .dataframe thead th {\n",
       "        text-align: left;\n",
       "    }\n",
       "\n",
       "    .dataframe tbody tr th {\n",
       "        vertical-align: top;\n",
       "    }\n",
       "</style>\n",
       "<table border=\"1\" class=\"dataframe\">\n",
       "  <thead>\n",
       "    <tr style=\"text-align: right;\">\n",
       "      <th></th>\n",
       "      <th>unitig</th>\n",
       "      <th>readid_of_unitig</th>\n",
       "      <th>right_end_A</th>\n",
       "      <th>readid</th>\n",
       "      <th>right_end_T</th>\n",
       "      <th>readid.1</th>\n",
       "      <th>right_end_G</th>\n",
       "      <th>readid.2</th>\n",
       "      <th>right_end_C</th>\n",
       "      <th>readid.3</th>\n",
       "      <th>left_end_A</th>\n",
       "      <th>readid.4</th>\n",
       "      <th>left_end_T</th>\n",
       "      <th>readid.5</th>\n",
       "      <th>left_end_G</th>\n",
       "      <th>readid.6</th>\n",
       "      <th>left_end_C</th>\n",
       "      <th>readid.7</th>\n",
       "    </tr>\n",
       "  </thead>\n",
       "  <tbody>\n",
       "    <tr>\n",
       "      <th>0</th>\n",
       "      <td>TCAACATAGGTGGACATGTTTTTGTTGAAGCAG</td>\n",
       "      <td>2649197#2727003</td>\n",
       "      <td>$</td>\n",
       "      <td>$</td>\n",
       "      <td>$</td>\n",
       "      <td>$</td>\n",
       "      <td>$</td>\n",
       "      <td>$</td>\n",
       "      <td>$</td>\n",
       "      <td>$</td>\n",
       "      <td>GCAGGTTGATTTTGTAATCAACATAGGTGGACATGTTTTTGTTGAAG</td>\n",
       "      <td>101968#155970#298446#309683#347450#504947#5824...</td>\n",
       "      <td>$</td>\n",
       "      <td>$</td>\n",
       "      <td>CGATCTGGTTGATGATGTAGTCAACATAGGTGGACATGTTTTTGTT...</td>\n",
       "      <td>42410#351107#359439#719087#747268#775843#82266...</td>\n",
       "      <td>$</td>\n",
       "      <td>$</td>\n",
       "    </tr>\n",
       "    <tr>\n",
       "      <th>1</th>\n",
       "      <td>GAGAGTGCCGGAGATAAGCGCCGGATGGGGGA</td>\n",
       "      <td>2594711#2756162</td>\n",
       "      <td>$</td>\n",
       "      <td>$</td>\n",
       "      <td>$</td>\n",
       "      <td>$</td>\n",
       "      <td>$</td>\n",
       "      <td>$</td>\n",
       "      <td>$</td>\n",
       "      <td>$</td>\n",
       "      <td>$</td>\n",
       "      <td>$</td>\n",
       "      <td>TTCTTATCGCCCCTTCAAGAGCTAAGCCACTGAGAGTGCCGGAGAT...</td>\n",
       "      <td>15672#159156#240858#241952#244541#463075#66394...</td>\n",
       "      <td>$</td>\n",
       "      <td>$</td>\n",
       "      <td>TTCTTATCGCCCCTTCAAGAGCTAAGCCACCGAGAGTGCCGGAGAT...</td>\n",
       "      <td>2276450#2756162</td>\n",
       "    </tr>\n",
       "    <tr>\n",
       "      <th>2</th>\n",
       "      <td>GCAAATGCCTGATGCGCTACGCTTATTAGGCCTAC</td>\n",
       "      <td>1050832#2475118#2546684#2568398</td>\n",
       "      <td>TGCCTGATGCGCTACGCTTATTAGGCCTACA</td>\n",
       "      <td>595206#1050832#2032226#2264000#2475118#2546684</td>\n",
       "      <td>$</td>\n",
       "      <td>$</td>\n",
       "      <td>TGCCTGATGCGCTACGCTTATTAGGCCTACG</td>\n",
       "      <td>540198#1201428#1292274</td>\n",
       "      <td>$</td>\n",
       "      <td>$</td>\n",
       "      <td>$</td>\n",
       "      <td>$</td>\n",
       "      <td>$</td>\n",
       "      <td>$</td>\n",
       "      <td>$</td>\n",
       "      <td>$</td>\n",
       "      <td>$</td>\n",
       "      <td>$</td>\n",
       "    </tr>\n",
       "    <tr>\n",
       "      <th>3</th>\n",
       "      <td>GGGCGTAGCGAGCGAATACCTGCGGATGCGGTGCCCA</td>\n",
       "      <td>2488037#2772435</td>\n",
       "      <td>$</td>\n",
       "      <td>$</td>\n",
       "      <td>$</td>\n",
       "      <td>$</td>\n",
       "      <td>$</td>\n",
       "      <td>$</td>\n",
       "      <td>$</td>\n",
       "      <td>$</td>\n",
       "      <td>$</td>\n",
       "      <td>$</td>\n",
       "      <td>TCAGGCATTGCTGCCCCGCTCTGATAATGCTGGGCGTAGCGAGCGA...</td>\n",
       "      <td>49047#967748</td>\n",
       "      <td>$</td>\n",
       "      <td>$</td>\n",
       "      <td>TCAGGCATTGCTGCCCCGCTCTGATAATGCCGGGCGTAGCGAGCGA...</td>\n",
       "      <td>33076#184415#194838#282120#309575#478185#55726...</td>\n",
       "    </tr>\n",
       "    <tr>\n",
       "      <th>4</th>\n",
       "      <td>ACGAAAAAAAGAAAGGCGTGCATACCCGCTTTTTAATATTACTGAT...</td>\n",
       "      <td>2364150#2364660</td>\n",
       "      <td>$</td>\n",
       "      <td>$</td>\n",
       "      <td>TTTAATATTACTGATTATTTTTATTGTTACTGCCG</td>\n",
       "      <td>783827#2433853</td>\n",
       "      <td>$</td>\n",
       "      <td>$</td>\n",
       "      <td>TTTAATATTACTGATTATTTTTATTGTTACCGCCGTTAACTACGCC...</td>\n",
       "      <td>5785#69774#84365#95526#137461#162958#213089#22...</td>\n",
       "      <td>$</td>\n",
       "      <td>$</td>\n",
       "      <td>$</td>\n",
       "      <td>$</td>\n",
       "      <td>CCTTATGTGCATATGCTCAAAATAATATTTAAATAGTATTAATTAA...</td>\n",
       "      <td>50651#125912#131143#133958#139871#250487#26966...</td>\n",
       "      <td>$</td>\n",
       "      <td>$</td>\n",
       "    </tr>\n",
       "    <tr>\n",
       "      <th>5</th>\n",
       "      <td>TGCCCATATCCAGACCAACCACTTTACCGGTGTATTTCACATCATC...</td>\n",
       "      <td>5803#6676#16930#24595#25436#30536#44744#47294#...</td>\n",
       "      <td>$</td>\n",
       "      <td>$</td>\n",
       "      <td>CCAGAGTTGATGCAGGCAGTTATGCTGCGGTGGTAAAACCTCGCGC...</td>\n",
       "      <td>156552#214824#229061#232578#365389#370640#3863...</td>\n",
       "      <td>CCAGAGTTGATGCAGGCAGTTATGCTGCGGGGGTAAAA</td>\n",
       "      <td>1068591#2591479</td>\n",
       "      <td>$</td>\n",
       "      <td>$</td>\n",
       "      <td>$</td>\n",
       "      <td>$</td>\n",
       "      <td>$</td>\n",
       "      <td>$</td>\n",
       "      <td>ACAATCCCCTGAATCACGCGGAAGAAGATCAGCATATTCAGGCTGC...</td>\n",
       "      <td>5724#17534#31210#34896#62861#88806#90938#11944...</td>\n",
       "      <td>$</td>\n",
       "      <td>$</td>\n",
       "    </tr>\n",
       "    <tr>\n",
       "      <th>6</th>\n",
       "      <td>TTCTTATCGCCCCTTCAAGAGCTAAGCCACCGAGAGTGCCGGAGAT...</td>\n",
       "      <td>2276450#2756162</td>\n",
       "      <td>$</td>\n",
       "      <td>$</td>\n",
       "      <td>GAGAGTGCCGGAGATAAGCGCCGGATGGGGTAGAAACCCTTAAGCC...</td>\n",
       "      <td>14264#15290#15672#20271#22442#23806#31843#3230...</td>\n",
       "      <td>GAGAGTGCCGGAGATAAGCGCCGGATGGGGGA</td>\n",
       "      <td>2594711#2756162</td>\n",
       "      <td>$</td>\n",
       "      <td>$</td>\n",
       "      <td>GTGCATTGATCCTGACTTAATGCCGCAAGTTCGCCAAATCGACCTG...</td>\n",
       "      <td>41086#77993#126100#159156#208386#241952#382952...</td>\n",
       "      <td>$</td>\n",
       "      <td>$</td>\n",
       "      <td>$</td>\n",
       "      <td>$</td>\n",
       "      <td>$</td>\n",
       "      <td>$</td>\n",
       "    </tr>\n",
       "    <tr>\n",
       "      <th>7</th>\n",
       "      <td>GATATTTCTATTATCGAAATCGACGAAGTTGACGGCGAAAAAACCT...</td>\n",
       "      <td>4942#10247#13073#19746#34818#44803#48822#65000...</td>\n",
       "      <td>$</td>\n",
       "      <td>$</td>\n",
       "      <td>GCAGCAACATGCCCAGCAGCAGACTGCCGGTGCTGATGCTTCTGCA...</td>\n",
       "      <td>32725#151965#159948#231953#288378#333078#36752...</td>\n",
       "      <td>GCAGCAACATGCCCAGCAGCAGACTGCCGGGGCTGATGCTTCTGCA...</td>\n",
       "      <td>933784#2420294</td>\n",
       "      <td>$</td>\n",
       "      <td>$</td>\n",
       "      <td>$</td>\n",
       "      <td>$</td>\n",
       "      <td>$</td>\n",
       "      <td>$</td>\n",
       "      <td>$</td>\n",
       "      <td>$</td>\n",
       "      <td>CAACCGTACTATCGCGGTTTATGACCTGGGTGGTGGTACTTTCGAT...</td>\n",
       "      <td>77130#250536#316348#325601#342015#367560#42417...</td>\n",
       "    </tr>\n",
       "    <tr>\n",
       "      <th>8</th>\n",
       "      <td>CTATTTAGACCGTTTCTTCGCCATTTAAGGTGTTATCCCCA</td>\n",
       "      <td>2247544#2471821</td>\n",
       "      <td>$</td>\n",
       "      <td>$</td>\n",
       "      <td>$</td>\n",
       "      <td>$</td>\n",
       "      <td>$</td>\n",
       "      <td>$</td>\n",
       "      <td>$</td>\n",
       "      <td>$</td>\n",
       "      <td>CTTGAATCAGACTATTTAGACCGTTTCTTCGCCATTTAAGG</td>\n",
       "      <td>1180673#2471821</td>\n",
       "      <td>$</td>\n",
       "      <td>$</td>\n",
       "      <td>$</td>\n",
       "      <td>$</td>\n",
       "      <td>AATCAGCCTATTTAGACCGTTTCTTCGCCATTTAAGG</td>\n",
       "      <td>228#1521#21615#84724#89717#95111#103348#106641...</td>\n",
       "    </tr>\n",
       "    <tr>\n",
       "      <th>9</th>\n",
       "      <td>TGCCGGATGCGGCGTGAACGCCTTATCCGGGCTAC</td>\n",
       "      <td>141761#2231433#2451653</td>\n",
       "      <td>$</td>\n",
       "      <td>$</td>\n",
       "      <td>$</td>\n",
       "      <td>$</td>\n",
       "      <td>$</td>\n",
       "      <td>$</td>\n",
       "      <td>$</td>\n",
       "      <td>$</td>\n",
       "      <td>ATGCCGGATGCGGCGTGAACGCCTTATCCGG</td>\n",
       "      <td>7808#16244#23905#24274#25300#31364#35184#45500...</td>\n",
       "      <td>TTGCCGGATGCGGCGTGAACGCCTTATCCGG</td>\n",
       "      <td>8624#50762#51497#52805#62706#70083#73324#76198...</td>\n",
       "      <td>AGTGCCGGATGCGGCGTGAACGCCTTATCCGG</td>\n",
       "      <td>15611#97829#202178#239179#273739#332922#397285...</td>\n",
       "      <td>CTGCCGGATGCGGCGTGAACGCCTTATCCGG</td>\n",
       "      <td>1399#4411#25249#56104#64151#65979#67639#93267#...</td>\n",
       "    </tr>\n",
       "  </tbody>\n",
       "</table>\n",
       "</div>"
      ],
      "text/plain": [
       "                                              unitig  \\\n",
       "0                  TCAACATAGGTGGACATGTTTTTGTTGAAGCAG   \n",
       "1                   GAGAGTGCCGGAGATAAGCGCCGGATGGGGGA   \n",
       "2                GCAAATGCCTGATGCGCTACGCTTATTAGGCCTAC   \n",
       "3              GGGCGTAGCGAGCGAATACCTGCGGATGCGGTGCCCA   \n",
       "4  ACGAAAAAAAGAAAGGCGTGCATACCCGCTTTTTAATATTACTGAT...   \n",
       "5  TGCCCATATCCAGACCAACCACTTTACCGGTGTATTTCACATCATC...   \n",
       "6  TTCTTATCGCCCCTTCAAGAGCTAAGCCACCGAGAGTGCCGGAGAT...   \n",
       "7  GATATTTCTATTATCGAAATCGACGAAGTTGACGGCGAAAAAACCT...   \n",
       "8          CTATTTAGACCGTTTCTTCGCCATTTAAGGTGTTATCCCCA   \n",
       "9                TGCCGGATGCGGCGTGAACGCCTTATCCGGGCTAC   \n",
       "\n",
       "                                    readid_of_unitig  \\\n",
       "0                                    2649197#2727003   \n",
       "1                                    2594711#2756162   \n",
       "2                    1050832#2475118#2546684#2568398   \n",
       "3                                    2488037#2772435   \n",
       "4                                    2364150#2364660   \n",
       "5  5803#6676#16930#24595#25436#30536#44744#47294#...   \n",
       "6                                    2276450#2756162   \n",
       "7  4942#10247#13073#19746#34818#44803#48822#65000...   \n",
       "8                                    2247544#2471821   \n",
       "9                             141761#2231433#2451653   \n",
       "\n",
       "                       right_end_A  \\\n",
       "0                                $   \n",
       "1                                $   \n",
       "2  TGCCTGATGCGCTACGCTTATTAGGCCTACA   \n",
       "3                                $   \n",
       "4                                $   \n",
       "5                                $   \n",
       "6                                $   \n",
       "7                                $   \n",
       "8                                $   \n",
       "9                                $   \n",
       "\n",
       "                                           readid  \\\n",
       "0                                               $   \n",
       "1                                               $   \n",
       "2  595206#1050832#2032226#2264000#2475118#2546684   \n",
       "3                                               $   \n",
       "4                                               $   \n",
       "5                                               $   \n",
       "6                                               $   \n",
       "7                                               $   \n",
       "8                                               $   \n",
       "9                                               $   \n",
       "\n",
       "                                         right_end_T  \\\n",
       "0                                                  $   \n",
       "1                                                  $   \n",
       "2                                                  $   \n",
       "3                                                  $   \n",
       "4                TTTAATATTACTGATTATTTTTATTGTTACTGCCG   \n",
       "5  CCAGAGTTGATGCAGGCAGTTATGCTGCGGTGGTAAAACCTCGCGC...   \n",
       "6  GAGAGTGCCGGAGATAAGCGCCGGATGGGGTAGAAACCCTTAAGCC...   \n",
       "7  GCAGCAACATGCCCAGCAGCAGACTGCCGGTGCTGATGCTTCTGCA...   \n",
       "8                                                  $   \n",
       "9                                                  $   \n",
       "\n",
       "                                            readid.1  \\\n",
       "0                                                  $   \n",
       "1                                                  $   \n",
       "2                                                  $   \n",
       "3                                                  $   \n",
       "4                                     783827#2433853   \n",
       "5  156552#214824#229061#232578#365389#370640#3863...   \n",
       "6  14264#15290#15672#20271#22442#23806#31843#3230...   \n",
       "7  32725#151965#159948#231953#288378#333078#36752...   \n",
       "8                                                  $   \n",
       "9                                                  $   \n",
       "\n",
       "                                         right_end_G                readid.2  \\\n",
       "0                                                  $                       $   \n",
       "1                                                  $                       $   \n",
       "2                    TGCCTGATGCGCTACGCTTATTAGGCCTACG  540198#1201428#1292274   \n",
       "3                                                  $                       $   \n",
       "4                                                  $                       $   \n",
       "5             CCAGAGTTGATGCAGGCAGTTATGCTGCGGGGGTAAAA         1068591#2591479   \n",
       "6                   GAGAGTGCCGGAGATAAGCGCCGGATGGGGGA         2594711#2756162   \n",
       "7  GCAGCAACATGCCCAGCAGCAGACTGCCGGGGCTGATGCTTCTGCA...          933784#2420294   \n",
       "8                                                  $                       $   \n",
       "9                                                  $                       $   \n",
       "\n",
       "                                         right_end_C  \\\n",
       "0                                                  $   \n",
       "1                                                  $   \n",
       "2                                                  $   \n",
       "3                                                  $   \n",
       "4  TTTAATATTACTGATTATTTTTATTGTTACCGCCGTTAACTACGCC...   \n",
       "5                                                  $   \n",
       "6                                                  $   \n",
       "7                                                  $   \n",
       "8                                                  $   \n",
       "9                                                  $   \n",
       "\n",
       "                                            readid.3  \\\n",
       "0                                                  $   \n",
       "1                                                  $   \n",
       "2                                                  $   \n",
       "3                                                  $   \n",
       "4  5785#69774#84365#95526#137461#162958#213089#22...   \n",
       "5                                                  $   \n",
       "6                                                  $   \n",
       "7                                                  $   \n",
       "8                                                  $   \n",
       "9                                                  $   \n",
       "\n",
       "                                          left_end_A  \\\n",
       "0    GCAGGTTGATTTTGTAATCAACATAGGTGGACATGTTTTTGTTGAAG   \n",
       "1                                                  $   \n",
       "2                                                  $   \n",
       "3                                                  $   \n",
       "4                                                  $   \n",
       "5                                                  $   \n",
       "6  GTGCATTGATCCTGACTTAATGCCGCAAGTTCGCCAAATCGACCTG...   \n",
       "7                                                  $   \n",
       "8          CTTGAATCAGACTATTTAGACCGTTTCTTCGCCATTTAAGG   \n",
       "9                    ATGCCGGATGCGGCGTGAACGCCTTATCCGG   \n",
       "\n",
       "                                            readid.4  \\\n",
       "0  101968#155970#298446#309683#347450#504947#5824...   \n",
       "1                                                  $   \n",
       "2                                                  $   \n",
       "3                                                  $   \n",
       "4                                                  $   \n",
       "5                                                  $   \n",
       "6  41086#77993#126100#159156#208386#241952#382952...   \n",
       "7                                                  $   \n",
       "8                                    1180673#2471821   \n",
       "9  7808#16244#23905#24274#25300#31364#35184#45500...   \n",
       "\n",
       "                                          left_end_T  \\\n",
       "0                                                  $   \n",
       "1  TTCTTATCGCCCCTTCAAGAGCTAAGCCACTGAGAGTGCCGGAGAT...   \n",
       "2                                                  $   \n",
       "3  TCAGGCATTGCTGCCCCGCTCTGATAATGCTGGGCGTAGCGAGCGA...   \n",
       "4                                                  $   \n",
       "5                                                  $   \n",
       "6                                                  $   \n",
       "7                                                  $   \n",
       "8                                                  $   \n",
       "9                    TTGCCGGATGCGGCGTGAACGCCTTATCCGG   \n",
       "\n",
       "                                            readid.5  \\\n",
       "0                                                  $   \n",
       "1  15672#159156#240858#241952#244541#463075#66394...   \n",
       "2                                                  $   \n",
       "3                                       49047#967748   \n",
       "4                                                  $   \n",
       "5                                                  $   \n",
       "6                                                  $   \n",
       "7                                                  $   \n",
       "8                                                  $   \n",
       "9  8624#50762#51497#52805#62706#70083#73324#76198...   \n",
       "\n",
       "                                          left_end_G  \\\n",
       "0  CGATCTGGTTGATGATGTAGTCAACATAGGTGGACATGTTTTTGTT...   \n",
       "1                                                  $   \n",
       "2                                                  $   \n",
       "3                                                  $   \n",
       "4  CCTTATGTGCATATGCTCAAAATAATATTTAAATAGTATTAATTAA...   \n",
       "5  ACAATCCCCTGAATCACGCGGAAGAAGATCAGCATATTCAGGCTGC...   \n",
       "6                                                  $   \n",
       "7                                                  $   \n",
       "8                                                  $   \n",
       "9                   AGTGCCGGATGCGGCGTGAACGCCTTATCCGG   \n",
       "\n",
       "                                            readid.6  \\\n",
       "0  42410#351107#359439#719087#747268#775843#82266...   \n",
       "1                                                  $   \n",
       "2                                                  $   \n",
       "3                                                  $   \n",
       "4  50651#125912#131143#133958#139871#250487#26966...   \n",
       "5  5724#17534#31210#34896#62861#88806#90938#11944...   \n",
       "6                                                  $   \n",
       "7                                                  $   \n",
       "8                                                  $   \n",
       "9  15611#97829#202178#239179#273739#332922#397285...   \n",
       "\n",
       "                                          left_end_C  \\\n",
       "0                                                  $   \n",
       "1  TTCTTATCGCCCCTTCAAGAGCTAAGCCACCGAGAGTGCCGGAGAT...   \n",
       "2                                                  $   \n",
       "3  TCAGGCATTGCTGCCCCGCTCTGATAATGCCGGGCGTAGCGAGCGA...   \n",
       "4                                                  $   \n",
       "5                                                  $   \n",
       "6                                                  $   \n",
       "7  CAACCGTACTATCGCGGTTTATGACCTGGGTGGTGGTACTTTCGAT...   \n",
       "8              AATCAGCCTATTTAGACCGTTTCTTCGCCATTTAAGG   \n",
       "9                    CTGCCGGATGCGGCGTGAACGCCTTATCCGG   \n",
       "\n",
       "                                            readid.7  \n",
       "0                                                  $  \n",
       "1                                    2276450#2756162  \n",
       "2                                                  $  \n",
       "3  33076#184415#194838#282120#309575#478185#55726...  \n",
       "4                                                  $  \n",
       "5                                                  $  \n",
       "6                                                  $  \n",
       "7  77130#250536#316348#325601#342015#367560#42417...  \n",
       "8  228#1521#21615#84724#89717#95111#103348#106641...  \n",
       "9  1399#4411#25249#56104#64151#65979#67639#93267#...  "
      ]
     },
     "execution_count": 4,
     "metadata": {},
     "output_type": "execute_result"
    }
   ],
   "source": [
    "df.head(10)"
   ]
  },
  {
   "cell_type": "code",
   "execution_count": 5,
   "metadata": {
    "collapsed": false
   },
   "outputs": [
    {
     "data": {
      "text/plain": [
       "([1, 3, 5, 7, 9, 11, 13, 15, 17], [0, 2, 4, 6, 8, 10, 12, 14, 16])"
      ]
     },
     "execution_count": 5,
     "metadata": {},
     "output_type": "execute_result"
    }
   ],
   "source": [
    "rids_ind = range(1,18,2)\n",
    "str_ind = range(0,18,2)\n",
    "rids_ind,str_ind"
   ]
  },
  {
   "cell_type": "code",
   "execution_count": 6,
   "metadata": {
    "collapsed": false
   },
   "outputs": [],
   "source": [
    "gen_unitigs = list(df['unitig'])"
   ]
  },
  {
   "cell_type": "code",
   "execution_count": 7,
   "metadata": {
    "collapsed": false
   },
   "outputs": [],
   "source": [
    "len_unitigs= np.array([len(k) for k in gen_unitigs])"
   ]
  },
  {
   "cell_type": "code",
   "execution_count": 8,
   "metadata": {
    "collapsed": false
   },
   "outputs": [
    {
     "data": {
      "text/plain": [
       "327.62629459148445"
      ]
     },
     "execution_count": 8,
     "metadata": {},
     "output_type": "execute_result"
    }
   ],
   "source": [
    "len_unitigs.mean()"
   ]
  },
  {
   "cell_type": "code",
   "execution_count": 9,
   "metadata": {
    "collapsed": true
   },
   "outputs": [],
   "source": [
    "br_inds= str_ind[1:]"
   ]
  },
  {
   "cell_type": "code",
   "execution_count": 10,
   "metadata": {
    "collapsed": false
   },
   "outputs": [
    {
     "data": {
      "text/plain": [
       "[2, 4, 6, 8, 10, 12, 14, 16]"
      ]
     },
     "execution_count": 10,
     "metadata": {},
     "output_type": "execute_result"
    }
   ],
   "source": [
    "br_inds"
   ]
  },
  {
   "cell_type": "code",
   "execution_count": 11,
   "metadata": {
    "collapsed": false
   },
   "outputs": [],
   "source": [
    "all_branches=[]\n",
    "\n",
    "for i in range(df.shape[0]):\n",
    "    sd= list(df.loc[i].values)\n",
    "    for j in br_inds:\n",
    "        \n",
    "        if sd[j] != '$':\n",
    "\n",
    "            all_branches.append(sd[j])\n",
    "\n"
   ]
  },
  {
   "cell_type": "code",
   "execution_count": 12,
   "metadata": {
    "collapsed": false
   },
   "outputs": [
    {
     "data": {
      "text/plain": [
       "89975"
      ]
     },
     "execution_count": 12,
     "metadata": {},
     "output_type": "execute_result"
    }
   ],
   "source": [
    "len(all_branches)"
   ]
  },
  {
   "cell_type": "code",
   "execution_count": 13,
   "metadata": {
    "collapsed": true
   },
   "outputs": [],
   "source": [
    "len_branches= np.array([len(k) for k in all_branches])"
   ]
  },
  {
   "cell_type": "code",
   "execution_count": 14,
   "metadata": {
    "collapsed": false
   },
   "outputs": [
    {
     "data": {
      "text/plain": [
       "201.29722700750207"
      ]
     },
     "execution_count": 14,
     "metadata": {},
     "output_type": "execute_result"
    }
   ],
   "source": [
    "len_branches.mean()"
   ]
  },
  {
   "cell_type": "code",
   "execution_count": 15,
   "metadata": {
    "collapsed": false
   },
   "outputs": [
    {
     "data": {
      "text/plain": [
       "27808"
      ]
     },
     "execution_count": 15,
     "metadata": {},
     "output_type": "execute_result"
    }
   ],
   "source": [
    "len(len_unitigs)"
   ]
  },
  {
   "cell_type": "code",
   "execution_count": 16,
   "metadata": {
    "collapsed": false
   },
   "outputs": [
    {
     "data": {
      "text/plain": [
       "3216"
      ]
     },
     "execution_count": 16,
     "metadata": {},
     "output_type": "execute_result"
    }
   ],
   "source": [
    "len(len_unitigs[len_unitigs<40])"
   ]
  },
  {
   "cell_type": "code",
   "execution_count": 17,
   "metadata": {
    "collapsed": false
   },
   "outputs": [
    {
     "data": {
      "text/plain": [
       "89975"
      ]
     },
     "execution_count": 17,
     "metadata": {},
     "output_type": "execute_result"
    }
   ],
   "source": [
    "len(all_branches)"
   ]
  },
  {
   "cell_type": "code",
   "execution_count": 18,
   "metadata": {
    "collapsed": false
   },
   "outputs": [
    {
     "data": {
      "text/plain": [
       "([2, 4, 6, 8], [10, 12, 14, 16])"
      ]
     },
     "execution_count": 18,
     "metadata": {},
     "output_type": "execute_result"
    }
   ],
   "source": [
    "right_inds= br_inds[:4]\n",
    "left_inds= br_inds[4:]\n",
    "right_inds, left_inds"
   ]
  },
  {
   "cell_type": "code",
   "execution_count": 19,
   "metadata": {
    "collapsed": false
   },
   "outputs": [
    {
     "name": "stdout",
     "output_type": "stream",
     "text": [
      "CPU times: user 29.5 s, sys: 695 ms, total: 30.2 s\n",
      "Wall time: 29.8 s\n"
     ]
    }
   ],
   "source": [
    "%%time\n",
    "pos_contigs =[]\n",
    "for i in range(df.shape[0]):\n",
    "    sd= list(df.loc[i].values)    \n",
    "    primary = str(sd[0])\n",
    "    prids =sd[1].split('#')\n",
    "    for k in right_inds:\n",
    "        if sd[k] != '$':\n",
    "            rids= sd[k+1].split('#')\n",
    "            rcount =0\n",
    "            pcount =0\n",
    "            for rid in rids:\n",
    "                if rid in prids:\n",
    "                    rcount+=1\n",
    "                \n",
    "                if int(rid) % 2 ==0:\n",
    "                    if str(int(rid)-1 ) in prids:\n",
    "                        pcount+=1\n",
    "                else:\n",
    "                    if str(int(rid)+1 ) in prids:\n",
    "                        pcount+=1\n",
    "                \n",
    "                    \n",
    "            contig= primary + str(sd[k])[31:]\n",
    "            pos_contigs.append((contig,rcount, pcount) )\n",
    "            \n",
    "    for k in left_inds:\n",
    "        if sd[k] != '$':\n",
    "            rids= sd[k+1].split('#')\n",
    "            rcount =0\n",
    "            pcount =0\n",
    "            for rid in rids:\n",
    "                if rid in prids:\n",
    "                    rcount+=1\n",
    "                \n",
    "                if int(rid) % 2 ==0:\n",
    "                    if str(int(rid)-1 ) in prids:\n",
    "                        pcount+=1\n",
    "                else:\n",
    "                    if str(int(rid)+1 ) in prids:\n",
    "                        pcount+=1\n",
    "            contig=  str(sd[k])[:-31] + primary  \n",
    "            pos_contigs.append((contig,rcount, pcount) )\n",
    "\n",
    "\n"
   ]
  },
  {
   "cell_type": "code",
   "execution_count": 49,
   "metadata": {
    "collapsed": false
   },
   "outputs": [
    {
     "data": {
      "text/plain": [
       "[('GCAGGTTGATTTTGTATCAACATAGGTGGACATGTTTTTGTTGAAGCAG', 1, 0),\n",
       " ('CGATCTGGTTGATGATGTATCAACATAGGTGGACATGTTTTTGTTGAAGCAG', 1, 0),\n",
       " ('TTCTTATCGCCCCTTCAAGAGCTAAGCCACGAGAGTGCCGGAGATAAGCGCCGGATGGGGGA', 1, 0),\n",
       " ('TTCTTATCGCCCCTTCAAGAGCTAAGCCACGAGAGTGCCGGAGATAAGCGCCGGATGGGGGA', 1, 0),\n",
       " ('GCAAATGCCTGATGCGCTACGCTTATTAGGCCTAC', 3, 0)]"
      ]
     },
     "execution_count": 49,
     "metadata": {},
     "output_type": "execute_result"
    }
   ],
   "source": [
    "pos_contigs[:5]"
   ]
  },
  {
   "cell_type": "code",
   "execution_count": 21,
   "metadata": {
    "collapsed": false
   },
   "outputs": [],
   "source": [
    "ris = np.array([i[1] for i in pos_contigs])"
   ]
  },
  {
   "cell_type": "code",
   "execution_count": 21,
   "metadata": {
    "collapsed": false
   },
   "outputs": [
    {
     "data": {
      "text/plain": [
       "array([ 1,  1,  1, ..., 19, 22, 41])"
      ]
     },
     "execution_count": 21,
     "metadata": {},
     "output_type": "execute_result"
    }
   ],
   "source": [
    "ris"
   ]
  },
  {
   "cell_type": "code",
   "execution_count": 22,
   "metadata": {
    "collapsed": false
   },
   "outputs": [
    {
     "data": {
      "text/plain": [
       "(18.884012225618228, 895, 29.711659349884037)"
      ]
     },
     "execution_count": 22,
     "metadata": {},
     "output_type": "execute_result"
    }
   ],
   "source": [
    "ris.mean(), ris.max(), ris.std()"
   ]
  },
  {
   "cell_type": "code",
   "execution_count": 24,
   "metadata": {
    "collapsed": true
   },
   "outputs": [],
   "source": [
    "rixs = [i[2] for i in pos_contigs]"
   ]
  },
  {
   "cell_type": "code",
   "execution_count": 27,
   "metadata": {
    "collapsed": false
   },
   "outputs": [
    {
     "data": {
      "text/html": [
       "<div>\n",
       "<style>\n",
       "    .dataframe thead tr:only-child th {\n",
       "        text-align: right;\n",
       "    }\n",
       "\n",
       "    .dataframe thead th {\n",
       "        text-align: left;\n",
       "    }\n",
       "\n",
       "    .dataframe tbody tr th {\n",
       "        vertical-align: top;\n",
       "    }\n",
       "</style>\n",
       "<table border=\"1\" class=\"dataframe\">\n",
       "  <thead>\n",
       "    <tr style=\"text-align: right;\">\n",
       "      <th></th>\n",
       "      <th>unitig</th>\n",
       "      <th>readid_of_unitig</th>\n",
       "      <th>right_end_A</th>\n",
       "      <th>readid</th>\n",
       "      <th>right_end_T</th>\n",
       "      <th>readid.1</th>\n",
       "      <th>right_end_G</th>\n",
       "      <th>readid.2</th>\n",
       "      <th>right_end_C</th>\n",
       "      <th>readid.3</th>\n",
       "      <th>left_end_A</th>\n",
       "      <th>readid.4</th>\n",
       "      <th>left_end_T</th>\n",
       "      <th>readid.5</th>\n",
       "      <th>left_end_G</th>\n",
       "      <th>readid.6</th>\n",
       "      <th>left_end_C</th>\n",
       "      <th>readid.7</th>\n",
       "    </tr>\n",
       "  </thead>\n",
       "  <tbody>\n",
       "    <tr>\n",
       "      <th>0</th>\n",
       "      <td>TCAACATAGGTGGACATGTTTTTGTTGAAGCAG</td>\n",
       "      <td>2649197#2727003</td>\n",
       "      <td>$</td>\n",
       "      <td>$</td>\n",
       "      <td>$</td>\n",
       "      <td>$</td>\n",
       "      <td>$</td>\n",
       "      <td>$</td>\n",
       "      <td>$</td>\n",
       "      <td>$</td>\n",
       "      <td>GCAGGTTGATTTTGTAATCAACATAGGTGGACATGTTTTTGTTGAAG</td>\n",
       "      <td>101968#155970#298446#309683#347450#504947#5824...</td>\n",
       "      <td>$</td>\n",
       "      <td>$</td>\n",
       "      <td>CGATCTGGTTGATGATGTAGTCAACATAGGTGGACATGTTTTTGTT...</td>\n",
       "      <td>42410#351107#359439#719087#747268#775843#82266...</td>\n",
       "      <td>$</td>\n",
       "      <td>$</td>\n",
       "    </tr>\n",
       "    <tr>\n",
       "      <th>1</th>\n",
       "      <td>GAGAGTGCCGGAGATAAGCGCCGGATGGGGGA</td>\n",
       "      <td>2594711#2756162</td>\n",
       "      <td>$</td>\n",
       "      <td>$</td>\n",
       "      <td>$</td>\n",
       "      <td>$</td>\n",
       "      <td>$</td>\n",
       "      <td>$</td>\n",
       "      <td>$</td>\n",
       "      <td>$</td>\n",
       "      <td>$</td>\n",
       "      <td>$</td>\n",
       "      <td>TTCTTATCGCCCCTTCAAGAGCTAAGCCACTGAGAGTGCCGGAGAT...</td>\n",
       "      <td>15672#159156#240858#241952#244541#463075#66394...</td>\n",
       "      <td>$</td>\n",
       "      <td>$</td>\n",
       "      <td>TTCTTATCGCCCCTTCAAGAGCTAAGCCACCGAGAGTGCCGGAGAT...</td>\n",
       "      <td>2276450#2756162</td>\n",
       "    </tr>\n",
       "    <tr>\n",
       "      <th>2</th>\n",
       "      <td>GCAAATGCCTGATGCGCTACGCTTATTAGGCCTAC</td>\n",
       "      <td>1050832#2475118#2546684#2568398</td>\n",
       "      <td>TGCCTGATGCGCTACGCTTATTAGGCCTACA</td>\n",
       "      <td>595206#1050832#2032226#2264000#2475118#2546684</td>\n",
       "      <td>$</td>\n",
       "      <td>$</td>\n",
       "      <td>TGCCTGATGCGCTACGCTTATTAGGCCTACG</td>\n",
       "      <td>540198#1201428#1292274</td>\n",
       "      <td>$</td>\n",
       "      <td>$</td>\n",
       "      <td>$</td>\n",
       "      <td>$</td>\n",
       "      <td>$</td>\n",
       "      <td>$</td>\n",
       "      <td>$</td>\n",
       "      <td>$</td>\n",
       "      <td>$</td>\n",
       "      <td>$</td>\n",
       "    </tr>\n",
       "    <tr>\n",
       "      <th>3</th>\n",
       "      <td>GGGCGTAGCGAGCGAATACCTGCGGATGCGGTGCCCA</td>\n",
       "      <td>2488037#2772435</td>\n",
       "      <td>$</td>\n",
       "      <td>$</td>\n",
       "      <td>$</td>\n",
       "      <td>$</td>\n",
       "      <td>$</td>\n",
       "      <td>$</td>\n",
       "      <td>$</td>\n",
       "      <td>$</td>\n",
       "      <td>$</td>\n",
       "      <td>$</td>\n",
       "      <td>TCAGGCATTGCTGCCCCGCTCTGATAATGCTGGGCGTAGCGAGCGA...</td>\n",
       "      <td>49047#967748</td>\n",
       "      <td>$</td>\n",
       "      <td>$</td>\n",
       "      <td>TCAGGCATTGCTGCCCCGCTCTGATAATGCCGGGCGTAGCGAGCGA...</td>\n",
       "      <td>33076#184415#194838#282120#309575#478185#55726...</td>\n",
       "    </tr>\n",
       "    <tr>\n",
       "      <th>4</th>\n",
       "      <td>ACGAAAAAAAGAAAGGCGTGCATACCCGCTTTTTAATATTACTGAT...</td>\n",
       "      <td>2364150#2364660</td>\n",
       "      <td>$</td>\n",
       "      <td>$</td>\n",
       "      <td>TTTAATATTACTGATTATTTTTATTGTTACTGCCG</td>\n",
       "      <td>783827#2433853</td>\n",
       "      <td>$</td>\n",
       "      <td>$</td>\n",
       "      <td>TTTAATATTACTGATTATTTTTATTGTTACCGCCGTTAACTACGCC...</td>\n",
       "      <td>5785#69774#84365#95526#137461#162958#213089#22...</td>\n",
       "      <td>$</td>\n",
       "      <td>$</td>\n",
       "      <td>$</td>\n",
       "      <td>$</td>\n",
       "      <td>CCTTATGTGCATATGCTCAAAATAATATTTAAATAGTATTAATTAA...</td>\n",
       "      <td>50651#125912#131143#133958#139871#250487#26966...</td>\n",
       "      <td>$</td>\n",
       "      <td>$</td>\n",
       "    </tr>\n",
       "  </tbody>\n",
       "</table>\n",
       "</div>"
      ],
      "text/plain": [
       "                                              unitig  \\\n",
       "0                  TCAACATAGGTGGACATGTTTTTGTTGAAGCAG   \n",
       "1                   GAGAGTGCCGGAGATAAGCGCCGGATGGGGGA   \n",
       "2                GCAAATGCCTGATGCGCTACGCTTATTAGGCCTAC   \n",
       "3              GGGCGTAGCGAGCGAATACCTGCGGATGCGGTGCCCA   \n",
       "4  ACGAAAAAAAGAAAGGCGTGCATACCCGCTTTTTAATATTACTGAT...   \n",
       "\n",
       "                  readid_of_unitig                      right_end_A  \\\n",
       "0                  2649197#2727003                                $   \n",
       "1                  2594711#2756162                                $   \n",
       "2  1050832#2475118#2546684#2568398  TGCCTGATGCGCTACGCTTATTAGGCCTACA   \n",
       "3                  2488037#2772435                                $   \n",
       "4                  2364150#2364660                                $   \n",
       "\n",
       "                                           readid  \\\n",
       "0                                               $   \n",
       "1                                               $   \n",
       "2  595206#1050832#2032226#2264000#2475118#2546684   \n",
       "3                                               $   \n",
       "4                                               $   \n",
       "\n",
       "                           right_end_T        readid.1  \\\n",
       "0                                    $               $   \n",
       "1                                    $               $   \n",
       "2                                    $               $   \n",
       "3                                    $               $   \n",
       "4  TTTAATATTACTGATTATTTTTATTGTTACTGCCG  783827#2433853   \n",
       "\n",
       "                       right_end_G                readid.2  \\\n",
       "0                                $                       $   \n",
       "1                                $                       $   \n",
       "2  TGCCTGATGCGCTACGCTTATTAGGCCTACG  540198#1201428#1292274   \n",
       "3                                $                       $   \n",
       "4                                $                       $   \n",
       "\n",
       "                                         right_end_C  \\\n",
       "0                                                  $   \n",
       "1                                                  $   \n",
       "2                                                  $   \n",
       "3                                                  $   \n",
       "4  TTTAATATTACTGATTATTTTTATTGTTACCGCCGTTAACTACGCC...   \n",
       "\n",
       "                                            readid.3  \\\n",
       "0                                                  $   \n",
       "1                                                  $   \n",
       "2                                                  $   \n",
       "3                                                  $   \n",
       "4  5785#69774#84365#95526#137461#162958#213089#22...   \n",
       "\n",
       "                                        left_end_A  \\\n",
       "0  GCAGGTTGATTTTGTAATCAACATAGGTGGACATGTTTTTGTTGAAG   \n",
       "1                                                $   \n",
       "2                                                $   \n",
       "3                                                $   \n",
       "4                                                $   \n",
       "\n",
       "                                            readid.4  \\\n",
       "0  101968#155970#298446#309683#347450#504947#5824...   \n",
       "1                                                  $   \n",
       "2                                                  $   \n",
       "3                                                  $   \n",
       "4                                                  $   \n",
       "\n",
       "                                          left_end_T  \\\n",
       "0                                                  $   \n",
       "1  TTCTTATCGCCCCTTCAAGAGCTAAGCCACTGAGAGTGCCGGAGAT...   \n",
       "2                                                  $   \n",
       "3  TCAGGCATTGCTGCCCCGCTCTGATAATGCTGGGCGTAGCGAGCGA...   \n",
       "4                                                  $   \n",
       "\n",
       "                                            readid.5  \\\n",
       "0                                                  $   \n",
       "1  15672#159156#240858#241952#244541#463075#66394...   \n",
       "2                                                  $   \n",
       "3                                       49047#967748   \n",
       "4                                                  $   \n",
       "\n",
       "                                          left_end_G  \\\n",
       "0  CGATCTGGTTGATGATGTAGTCAACATAGGTGGACATGTTTTTGTT...   \n",
       "1                                                  $   \n",
       "2                                                  $   \n",
       "3                                                  $   \n",
       "4  CCTTATGTGCATATGCTCAAAATAATATTTAAATAGTATTAATTAA...   \n",
       "\n",
       "                                            readid.6  \\\n",
       "0  42410#351107#359439#719087#747268#775843#82266...   \n",
       "1                                                  $   \n",
       "2                                                  $   \n",
       "3                                                  $   \n",
       "4  50651#125912#131143#133958#139871#250487#26966...   \n",
       "\n",
       "                                          left_end_C  \\\n",
       "0                                                  $   \n",
       "1  TTCTTATCGCCCCTTCAAGAGCTAAGCCACCGAGAGTGCCGGAGAT...   \n",
       "2                                                  $   \n",
       "3  TCAGGCATTGCTGCCCCGCTCTGATAATGCCGGGCGTAGCGAGCGA...   \n",
       "4                                                  $   \n",
       "\n",
       "                                            readid.7  \n",
       "0                                                  $  \n",
       "1                                    2276450#2756162  \n",
       "2                                                  $  \n",
       "3  33076#184415#194838#282120#309575#478185#55726...  \n",
       "4                                                  $  "
      ]
     },
     "execution_count": 27,
     "metadata": {},
     "output_type": "execute_result"
    }
   ],
   "source": [
    "df.head()"
   ]
  },
  {
   "cell_type": "code",
   "execution_count": 46,
   "metadata": {
    "collapsed": false
   },
   "outputs": [
    {
     "data": {
      "text/plain": [
       "89975"
      ]
     },
     "execution_count": 46,
     "metadata": {},
     "output_type": "execute_result"
    }
   ],
   "source": [
    "len(pos_contigs)"
   ]
  },
  {
   "cell_type": "code",
   "execution_count": 47,
   "metadata": {
    "collapsed": false
   },
   "outputs": [],
   "source": [
    "len_contigs= np.array([len(k) for k in pos_contigs])"
   ]
  },
  {
   "cell_type": "code",
   "execution_count": 48,
   "metadata": {
    "collapsed": false
   },
   "outputs": [
    {
     "data": {
      "text/plain": [
       "3.0"
      ]
     },
     "execution_count": 48,
     "metadata": {},
     "output_type": "execute_result"
    }
   ],
   "source": [
    "len_contigs.mean()"
   ]
  },
  {
   "cell_type": "code",
   "execution_count": 31,
   "metadata": {
    "collapsed": false
   },
   "outputs": [
    {
     "data": {
      "text/plain": [
       "<matplotlib.axes._subplots.AxesSubplot at 0x11447d910>"
      ]
     },
     "execution_count": 31,
     "metadata": {},
     "output_type": "execute_result"
    },
    {
     "data": {
      "image/png": "[encoded data removed]",
      "text/plain": [
       "<matplotlib.figure.Figure at 0x1141d9d50>"
      ]
     },
     "metadata": {},
     "output_type": "display_data"
    }
   ],
   "source": [
    "sns.distplot(len_contigs, kde=False)"
   ]
  },
  {
   "cell_type": "code",
   "execution_count": 24,
   "metadata": {
    "collapsed": true
   },
   "outputs": [],
   "source": [
    "fo = open('../../data/branch/60yn_pos_contigs.fa','w')"
   ]
  },
  {
   "cell_type": "code",
   "execution_count": 25,
   "metadata": {
    "collapsed": true
   },
   "outputs": [],
   "source": [
    "for i in range(len(pos_contigs)):\n",
    "    fo.write('>_'+ str(i)+'\\n'+ pos_contigs[i]+ '\\n' )"
   ]
  },
  {
   "cell_type": "code",
   "execution_count": 26,
   "metadata": {
    "collapsed": true
   },
   "outputs": [],
   "source": [
    "fo.close()"
   ]
  },
  {
   "cell_type": "code",
   "execution_count": 41,
   "metadata": {
    "collapsed": false
   },
   "outputs": [
    {
     "data": {
      "text/plain": [
       "u'/Users/satwikb/Work/Adapt/work/code/Untitled Folder'"
      ]
     },
     "execution_count": 41,
     "metadata": {},
     "output_type": "execute_result"
    }
   ],
   "source": [
    "pwd"
   ]
  },
  {
   "cell_type": "code",
   "execution_count": 52,
   "metadata": {
    "collapsed": true
   },
   "outputs": [],
   "source": [
    "feats = pd.read_csv('../data/features/60yn_pos_contigs_all_features.csv')"
   ]
  },
  {
   "cell_type": "code",
   "execution_count": 53,
   "metadata": {
    "collapsed": false
   },
   "outputs": [
    {
     "data": {
      "text/plain": [
       "(5000, 8)"
      ]
     },
     "execution_count": 53,
     "metadata": {},
     "output_type": "execute_result"
    }
   ],
   "source": [
    "feats.shape"
   ]
  },
  {
   "cell_type": "code",
   "execution_count": 54,
   "metadata": {
    "collapsed": false
   },
   "outputs": [
    {
     "data": {
      "text/html": [
       "<div>\n",
       "<style>\n",
       "    .dataframe thead tr:only-child th {\n",
       "        text-align: right;\n",
       "    }\n",
       "\n",
       "    .dataframe thead th {\n",
       "        text-align: left;\n",
       "    }\n",
       "\n",
       "    .dataframe tbody tr th {\n",
       "        vertical-align: top;\n",
       "    }\n",
       "</style>\n",
       "<table border=\"1\" class=\"dataframe\">\n",
       "  <thead>\n",
       "    <tr style=\"text-align: right;\">\n",
       "      <th></th>\n",
       "      <th>ID</th>\n",
       "      <th>Core_length</th>\n",
       "      <th>Dev_from_max</th>\n",
       "      <th>Dev_from_min</th>\n",
       "      <th>Dev_from_avg</th>\n",
       "      <th>Dev_from_med</th>\n",
       "      <th>Dev_from_N50</th>\n",
       "      <th>Dev_from_L50</th>\n",
       "    </tr>\n",
       "  </thead>\n",
       "  <tbody>\n",
       "    <tr>\n",
       "      <th>0</th>\n",
       "      <td>_0</td>\n",
       "      <td>49</td>\n",
       "      <td>4286</td>\n",
       "      <td>18</td>\n",
       "      <td>445</td>\n",
       "      <td>305</td>\n",
       "      <td>0.059611</td>\n",
       "      <td>0.078150</td>\n",
       "    </tr>\n",
       "    <tr>\n",
       "      <th>1</th>\n",
       "      <td>_1</td>\n",
       "      <td>52</td>\n",
       "      <td>4283</td>\n",
       "      <td>21</td>\n",
       "      <td>442</td>\n",
       "      <td>302</td>\n",
       "      <td>0.063260</td>\n",
       "      <td>0.082935</td>\n",
       "    </tr>\n",
       "    <tr>\n",
       "      <th>2</th>\n",
       "      <td>_2</td>\n",
       "      <td>62</td>\n",
       "      <td>4273</td>\n",
       "      <td>31</td>\n",
       "      <td>432</td>\n",
       "      <td>292</td>\n",
       "      <td>0.075426</td>\n",
       "      <td>0.098884</td>\n",
       "    </tr>\n",
       "    <tr>\n",
       "      <th>3</th>\n",
       "      <td>_3</td>\n",
       "      <td>62</td>\n",
       "      <td>4273</td>\n",
       "      <td>31</td>\n",
       "      <td>432</td>\n",
       "      <td>292</td>\n",
       "      <td>0.075426</td>\n",
       "      <td>0.098884</td>\n",
       "    </tr>\n",
       "    <tr>\n",
       "      <th>4</th>\n",
       "      <td>_4</td>\n",
       "      <td>35</td>\n",
       "      <td>4300</td>\n",
       "      <td>4</td>\n",
       "      <td>459</td>\n",
       "      <td>319</td>\n",
       "      <td>0.042579</td>\n",
       "      <td>0.055821</td>\n",
       "    </tr>\n",
       "  </tbody>\n",
       "</table>\n",
       "</div>"
      ],
      "text/plain": [
       "   ID  Core_length  Dev_from_max  Dev_from_min  Dev_from_avg  Dev_from_med  \\\n",
       "0  _0           49          4286            18           445           305   \n",
       "1  _1           52          4283            21           442           302   \n",
       "2  _2           62          4273            31           432           292   \n",
       "3  _3           62          4273            31           432           292   \n",
       "4  _4           35          4300             4           459           319   \n",
       "\n",
       "   Dev_from_N50  Dev_from_L50  \n",
       "0      0.059611      0.078150  \n",
       "1      0.063260      0.082935  \n",
       "2      0.075426      0.098884  \n",
       "3      0.075426      0.098884  \n",
       "4      0.042579      0.055821  "
      ]
     },
     "execution_count": 54,
     "metadata": {},
     "output_type": "execute_result"
    }
   ],
   "source": [
    "feats.head()"
   ]
  },
  {
   "cell_type": "code",
   "execution_count": 55,
   "metadata": {
    "collapsed": true
   },
   "outputs": [],
   "source": [
    "qual_syn60 = pd.read_csv('../data/quality/60x_pos_contigs_cleaned.csv')"
   ]
  },
  {
   "cell_type": "code",
   "execution_count": 56,
   "metadata": {
    "collapsed": false
   },
   "outputs": [
    {
     "data": {
      "text/html": [
       "<div>\n",
       "<style>\n",
       "    .dataframe thead tr:only-child th {\n",
       "        text-align: right;\n",
       "    }\n",
       "\n",
       "    .dataframe thead th {\n",
       "        text-align: left;\n",
       "    }\n",
       "\n",
       "    .dataframe tbody tr th {\n",
       "        vertical-align: top;\n",
       "    }\n",
       "</style>\n",
       "<table border=\"1\" class=\"dataframe\">\n",
       "  <thead>\n",
       "    <tr style=\"text-align: right;\">\n",
       "      <th></th>\n",
       "      <th>ID</th>\n",
       "      <th>Quality_Score</th>\n",
       "    </tr>\n",
       "  </thead>\n",
       "  <tbody>\n",
       "    <tr>\n",
       "      <th>0</th>\n",
       "      <td>_56778</td>\n",
       "      <td>0.255</td>\n",
       "    </tr>\n",
       "    <tr>\n",
       "      <th>1</th>\n",
       "      <td>_56779</td>\n",
       "      <td>0.376</td>\n",
       "    </tr>\n",
       "    <tr>\n",
       "      <th>2</th>\n",
       "      <td>_56770</td>\n",
       "      <td>0.394</td>\n",
       "    </tr>\n",
       "    <tr>\n",
       "      <th>3</th>\n",
       "      <td>_56771</td>\n",
       "      <td>0.350</td>\n",
       "    </tr>\n",
       "    <tr>\n",
       "      <th>4</th>\n",
       "      <td>_56772</td>\n",
       "      <td>0.334</td>\n",
       "    </tr>\n",
       "  </tbody>\n",
       "</table>\n",
       "</div>"
      ],
      "text/plain": [
       "       ID  Quality_Score\n",
       "0  _56778          0.255\n",
       "1  _56779          0.376\n",
       "2  _56770          0.394\n",
       "3  _56771          0.350\n",
       "4  _56772          0.334"
      ]
     },
     "execution_count": 56,
     "metadata": {},
     "output_type": "execute_result"
    }
   ],
   "source": [
    "qual_syn60.head()"
   ]
  },
  {
   "cell_type": "code",
   "execution_count": 57,
   "metadata": {
    "collapsed": true
   },
   "outputs": [],
   "source": [
    "full_df = feats.merge(qual_syn60)"
   ]
  },
  {
   "cell_type": "code",
   "execution_count": 58,
   "metadata": {
    "collapsed": false
   },
   "outputs": [
    {
     "data": {
      "text/html": [
       "<div>\n",
       "<style>\n",
       "    .dataframe thead tr:only-child th {\n",
       "        text-align: right;\n",
       "    }\n",
       "\n",
       "    .dataframe thead th {\n",
       "        text-align: left;\n",
       "    }\n",
       "\n",
       "    .dataframe tbody tr th {\n",
       "        vertical-align: top;\n",
       "    }\n",
       "</style>\n",
       "<table border=\"1\" class=\"dataframe\">\n",
       "  <thead>\n",
       "    <tr style=\"text-align: right;\">\n",
       "      <th></th>\n",
       "      <th>ID</th>\n",
       "      <th>Core_length</th>\n",
       "      <th>Dev_from_max</th>\n",
       "      <th>Dev_from_min</th>\n",
       "      <th>Dev_from_avg</th>\n",
       "      <th>Dev_from_med</th>\n",
       "      <th>Dev_from_N50</th>\n",
       "      <th>Dev_from_L50</th>\n",
       "      <th>Quality_Score</th>\n",
       "    </tr>\n",
       "  </thead>\n",
       "  <tbody>\n",
       "    <tr>\n",
       "      <th>0</th>\n",
       "      <td>_0</td>\n",
       "      <td>49</td>\n",
       "      <td>4286</td>\n",
       "      <td>18</td>\n",
       "      <td>445</td>\n",
       "      <td>305</td>\n",
       "      <td>0.059611</td>\n",
       "      <td>0.078150</td>\n",
       "      <td>0.0</td>\n",
       "    </tr>\n",
       "    <tr>\n",
       "      <th>1</th>\n",
       "      <td>_1</td>\n",
       "      <td>52</td>\n",
       "      <td>4283</td>\n",
       "      <td>21</td>\n",
       "      <td>442</td>\n",
       "      <td>302</td>\n",
       "      <td>0.063260</td>\n",
       "      <td>0.082935</td>\n",
       "      <td>0.0</td>\n",
       "    </tr>\n",
       "    <tr>\n",
       "      <th>2</th>\n",
       "      <td>_2</td>\n",
       "      <td>62</td>\n",
       "      <td>4273</td>\n",
       "      <td>31</td>\n",
       "      <td>432</td>\n",
       "      <td>292</td>\n",
       "      <td>0.075426</td>\n",
       "      <td>0.098884</td>\n",
       "      <td>0.0</td>\n",
       "    </tr>\n",
       "    <tr>\n",
       "      <th>3</th>\n",
       "      <td>_3</td>\n",
       "      <td>62</td>\n",
       "      <td>4273</td>\n",
       "      <td>31</td>\n",
       "      <td>432</td>\n",
       "      <td>292</td>\n",
       "      <td>0.075426</td>\n",
       "      <td>0.098884</td>\n",
       "      <td>0.0</td>\n",
       "    </tr>\n",
       "    <tr>\n",
       "      <th>4</th>\n",
       "      <td>_4</td>\n",
       "      <td>35</td>\n",
       "      <td>4300</td>\n",
       "      <td>4</td>\n",
       "      <td>459</td>\n",
       "      <td>319</td>\n",
       "      <td>0.042579</td>\n",
       "      <td>0.055821</td>\n",
       "      <td>0.0</td>\n",
       "    </tr>\n",
       "  </tbody>\n",
       "</table>\n",
       "</div>"
      ],
      "text/plain": [
       "   ID  Core_length  Dev_from_max  Dev_from_min  Dev_from_avg  Dev_from_med  \\\n",
       "0  _0           49          4286            18           445           305   \n",
       "1  _1           52          4283            21           442           302   \n",
       "2  _2           62          4273            31           432           292   \n",
       "3  _3           62          4273            31           432           292   \n",
       "4  _4           35          4300             4           459           319   \n",
       "\n",
       "   Dev_from_N50  Dev_from_L50  Quality_Score  \n",
       "0      0.059611      0.078150            0.0  \n",
       "1      0.063260      0.082935            0.0  \n",
       "2      0.075426      0.098884            0.0  \n",
       "3      0.075426      0.098884            0.0  \n",
       "4      0.042579      0.055821            0.0  "
      ]
     },
     "execution_count": 58,
     "metadata": {},
     "output_type": "execute_result"
    }
   ],
   "source": [
    "full_df.head()"
   ]
  },
  {
   "cell_type": "code",
   "execution_count": 59,
   "metadata": {
    "collapsed": false
   },
   "outputs": [
    {
     "data": {
      "text/html": [
       "<div>\n",
       "<style>\n",
       "    .dataframe thead tr:only-child th {\n",
       "        text-align: right;\n",
       "    }\n",
       "\n",
       "    .dataframe thead th {\n",
       "        text-align: left;\n",
       "    }\n",
       "\n",
       "    .dataframe tbody tr th {\n",
       "        vertical-align: top;\n",
       "    }\n",
       "</style>\n",
       "<table border=\"1\" class=\"dataframe\">\n",
       "  <thead>\n",
       "    <tr style=\"text-align: right;\">\n",
       "      <th></th>\n",
       "      <th>Core_length</th>\n",
       "      <th>Dev_from_max</th>\n",
       "      <th>Dev_from_min</th>\n",
       "      <th>Dev_from_avg</th>\n",
       "      <th>Dev_from_med</th>\n",
       "      <th>Dev_from_N50</th>\n",
       "      <th>Dev_from_L50</th>\n",
       "      <th>Quality_Score</th>\n",
       "    </tr>\n",
       "  </thead>\n",
       "  <tbody>\n",
       "    <tr>\n",
       "      <th>count</th>\n",
       "      <td>5000.000000</td>\n",
       "      <td>5000.000000</td>\n",
       "      <td>5000.000000</td>\n",
       "      <td>5000.000000</td>\n",
       "      <td>5000.000000</td>\n",
       "      <td>5000.000000</td>\n",
       "      <td>5000.000000</td>\n",
       "      <td>5000.000000</td>\n",
       "    </tr>\n",
       "    <tr>\n",
       "      <th>mean</th>\n",
       "      <td>933.378200</td>\n",
       "      <td>3401.621800</td>\n",
       "      <td>902.378200</td>\n",
       "      <td>534.961800</td>\n",
       "      <td>618.184600</td>\n",
       "      <td>1.135497</td>\n",
       "      <td>1.488641</td>\n",
       "      <td>0.370825</td>\n",
       "    </tr>\n",
       "    <tr>\n",
       "      <th>std</th>\n",
       "      <td>606.191803</td>\n",
       "      <td>606.191803</td>\n",
       "      <td>606.191803</td>\n",
       "      <td>523.754663</td>\n",
       "      <td>566.556356</td>\n",
       "      <td>0.737460</td>\n",
       "      <td>0.966813</td>\n",
       "      <td>0.057537</td>\n",
       "    </tr>\n",
       "    <tr>\n",
       "      <th>min</th>\n",
       "      <td>35.000000</td>\n",
       "      <td>0.000000</td>\n",
       "      <td>4.000000</td>\n",
       "      <td>0.000000</td>\n",
       "      <td>0.000000</td>\n",
       "      <td>0.042579</td>\n",
       "      <td>0.055821</td>\n",
       "      <td>0.000000</td>\n",
       "    </tr>\n",
       "    <tr>\n",
       "      <th>25%</th>\n",
       "      <td>481.750000</td>\n",
       "      <td>3082.000000</td>\n",
       "      <td>450.750000</td>\n",
       "      <td>159.000000</td>\n",
       "      <td>180.000000</td>\n",
       "      <td>0.586071</td>\n",
       "      <td>0.768341</td>\n",
       "      <td>0.350000</td>\n",
       "    </tr>\n",
       "    <tr>\n",
       "      <th>50%</th>\n",
       "      <td>804.500000</td>\n",
       "      <td>3530.500000</td>\n",
       "      <td>773.500000</td>\n",
       "      <td>356.000000</td>\n",
       "      <td>450.500000</td>\n",
       "      <td>0.978710</td>\n",
       "      <td>1.283094</td>\n",
       "      <td>0.379000</td>\n",
       "    </tr>\n",
       "    <tr>\n",
       "      <th>75%</th>\n",
       "      <td>1253.000000</td>\n",
       "      <td>3853.250000</td>\n",
       "      <td>1222.000000</td>\n",
       "      <td>759.000000</td>\n",
       "      <td>899.000000</td>\n",
       "      <td>1.524331</td>\n",
       "      <td>1.998405</td>\n",
       "      <td>0.404000</td>\n",
       "    </tr>\n",
       "    <tr>\n",
       "      <th>max</th>\n",
       "      <td>4335.000000</td>\n",
       "      <td>4300.000000</td>\n",
       "      <td>4304.000000</td>\n",
       "      <td>3841.000000</td>\n",
       "      <td>3981.000000</td>\n",
       "      <td>5.273723</td>\n",
       "      <td>6.913876</td>\n",
       "      <td>0.474000</td>\n",
       "    </tr>\n",
       "  </tbody>\n",
       "</table>\n",
       "</div>"
      ],
      "text/plain": [
       "       Core_length  Dev_from_max  Dev_from_min  Dev_from_avg  Dev_from_med  \\\n",
       "count  5000.000000   5000.000000   5000.000000   5000.000000   5000.000000   \n",
       "mean    933.378200   3401.621800    902.378200    534.961800    618.184600   \n",
       "std     606.191803    606.191803    606.191803    523.754663    566.556356   \n",
       "min      35.000000      0.000000      4.000000      0.000000      0.000000   \n",
       "25%     481.750000   3082.000000    450.750000    159.000000    180.000000   \n",
       "50%     804.500000   3530.500000    773.500000    356.000000    450.500000   \n",
       "75%    1253.000000   3853.250000   1222.000000    759.000000    899.000000   \n",
       "max    4335.000000   4300.000000   4304.000000   3841.000000   3981.000000   \n",
       "\n",
       "       Dev_from_N50  Dev_from_L50  Quality_Score  \n",
       "count   5000.000000   5000.000000    5000.000000  \n",
       "mean       1.135497      1.488641       0.370825  \n",
       "std        0.737460      0.966813       0.057537  \n",
       "min        0.042579      0.055821       0.000000  \n",
       "25%        0.586071      0.768341       0.350000  \n",
       "50%        0.978710      1.283094       0.379000  \n",
       "75%        1.524331      1.998405       0.404000  \n",
       "max        5.273723      6.913876       0.474000  "
      ]
     },
     "execution_count": 59,
     "metadata": {},
     "output_type": "execute_result"
    }
   ],
   "source": [
    "full_df.describe()"
   ]
  },
  {
   "cell_type": "code",
   "execution_count": 60,
   "metadata": {
    "collapsed": false
   },
   "outputs": [
    {
     "data": {
      "text/html": [
       "<div>\n",
       "<style>\n",
       "    .dataframe thead tr:only-child th {\n",
       "        text-align: right;\n",
       "    }\n",
       "\n",
       "    .dataframe thead th {\n",
       "        text-align: left;\n",
       "    }\n",
       "\n",
       "    .dataframe tbody tr th {\n",
       "        vertical-align: top;\n",
       "    }\n",
       "</style>\n",
       "<table border=\"1\" class=\"dataframe\">\n",
       "  <thead>\n",
       "    <tr style=\"text-align: right;\">\n",
       "      <th></th>\n",
       "      <th>ID</th>\n",
       "      <th>Core_length</th>\n",
       "      <th>Dev_from_max</th>\n",
       "      <th>Dev_from_min</th>\n",
       "      <th>Dev_from_avg</th>\n",
       "      <th>Dev_from_med</th>\n",
       "      <th>Dev_from_N50</th>\n",
       "      <th>Dev_from_L50</th>\n",
       "      <th>Quality_Score</th>\n",
       "    </tr>\n",
       "  </thead>\n",
       "  <tbody>\n",
       "    <tr>\n",
       "      <th>0</th>\n",
       "      <td>_0</td>\n",
       "      <td>49</td>\n",
       "      <td>4286</td>\n",
       "      <td>18</td>\n",
       "      <td>445</td>\n",
       "      <td>305</td>\n",
       "      <td>0.059611</td>\n",
       "      <td>0.078150</td>\n",
       "      <td>0.0</td>\n",
       "    </tr>\n",
       "    <tr>\n",
       "      <th>1</th>\n",
       "      <td>_1</td>\n",
       "      <td>52</td>\n",
       "      <td>4283</td>\n",
       "      <td>21</td>\n",
       "      <td>442</td>\n",
       "      <td>302</td>\n",
       "      <td>0.063260</td>\n",
       "      <td>0.082935</td>\n",
       "      <td>0.0</td>\n",
       "    </tr>\n",
       "    <tr>\n",
       "      <th>2</th>\n",
       "      <td>_2</td>\n",
       "      <td>62</td>\n",
       "      <td>4273</td>\n",
       "      <td>31</td>\n",
       "      <td>432</td>\n",
       "      <td>292</td>\n",
       "      <td>0.075426</td>\n",
       "      <td>0.098884</td>\n",
       "      <td>0.0</td>\n",
       "    </tr>\n",
       "    <tr>\n",
       "      <th>3</th>\n",
       "      <td>_3</td>\n",
       "      <td>62</td>\n",
       "      <td>4273</td>\n",
       "      <td>31</td>\n",
       "      <td>432</td>\n",
       "      <td>292</td>\n",
       "      <td>0.075426</td>\n",
       "      <td>0.098884</td>\n",
       "      <td>0.0</td>\n",
       "    </tr>\n",
       "    <tr>\n",
       "      <th>4</th>\n",
       "      <td>_4</td>\n",
       "      <td>35</td>\n",
       "      <td>4300</td>\n",
       "      <td>4</td>\n",
       "      <td>459</td>\n",
       "      <td>319</td>\n",
       "      <td>0.042579</td>\n",
       "      <td>0.055821</td>\n",
       "      <td>0.0</td>\n",
       "    </tr>\n",
       "  </tbody>\n",
       "</table>\n",
       "</div>"
      ],
      "text/plain": [
       "   ID  Core_length  Dev_from_max  Dev_from_min  Dev_from_avg  Dev_from_med  \\\n",
       "0  _0           49          4286            18           445           305   \n",
       "1  _1           52          4283            21           442           302   \n",
       "2  _2           62          4273            31           432           292   \n",
       "3  _3           62          4273            31           432           292   \n",
       "4  _4           35          4300             4           459           319   \n",
       "\n",
       "   Dev_from_N50  Dev_from_L50  Quality_Score  \n",
       "0      0.059611      0.078150            0.0  \n",
       "1      0.063260      0.082935            0.0  \n",
       "2      0.075426      0.098884            0.0  \n",
       "3      0.075426      0.098884            0.0  \n",
       "4      0.042579      0.055821            0.0  "
      ]
     },
     "execution_count": 60,
     "metadata": {},
     "output_type": "execute_result"
    }
   ],
   "source": [
    "full_df.head()"
   ]
  },
  {
   "cell_type": "code",
   "execution_count": 61,
   "metadata": {
    "collapsed": false
   },
   "outputs": [],
   "source": [
    "full_df = full_df.set_index('ID')"
   ]
  },
  {
   "cell_type": "code",
   "execution_count": 62,
   "metadata": {
    "collapsed": true
   },
   "outputs": [],
   "source": [
    "xsyn_df = full_df.copy()\n",
    "qual = np.array(xsyn_df.Quality_Score)\n",
    "qual[qual >0.42] =5\n",
    "qual[(qual >0.38) & (qual <=0.42)] =4\n",
    "qual[(qual >0.35) & (qual <=0.38)] =3\n",
    "qual[(qual >0.3) & (qual <=0.35)] =2\n",
    "qual[(qual >0.0) & (qual <=0.3)] =1\n",
    "qual[qual ==0.0] =0\n",
    "\n",
    "xsyn_df.Quality_Score = qual\n"
   ]
  },
  {
   "cell_type": "code",
   "execution_count": 63,
   "metadata": {
    "collapsed": false
   },
   "outputs": [
    {
     "data": {
      "text/plain": [
       "4.0    1853\n",
       "3.0    1293\n",
       "2.0     994\n",
       "5.0     571\n",
       "1.0     226\n",
       "0.0      63\n",
       "Name: Quality_Score, dtype: int64"
      ]
     },
     "execution_count": 63,
     "metadata": {},
     "output_type": "execute_result"
    }
   ],
   "source": [
    "xsyn_df.Quality_Score.value_counts()"
   ]
  },
  {
   "cell_type": "code",
   "execution_count": 64,
   "metadata": {
    "collapsed": false
   },
   "outputs": [
    {
     "data": {
      "text/plain": [
       "<matplotlib.axes._subplots.AxesSubplot at 0x1148fd610>"
      ]
     },
     "execution_count": 64,
     "metadata": {},
     "output_type": "execute_result"
    },
    {
     "data": {
      "image/png": "[encoded data removed]",
      "text/plain": [
       "<matplotlib.figure.Figure at 0x116bb19d0>"
      ]
     },
     "metadata": {},
     "output_type": "display_data"
    }
   ],
   "source": [
    "sns.distplot(full_df['Quality_Score'], kde=False)"
   ]
  },
  {
   "cell_type": "code",
   "execution_count": 65,
   "metadata": {
    "collapsed": false
   },
   "outputs": [
    {
     "data": {
      "text/plain": [
       "<matplotlib.axes._subplots.AxesSubplot at 0x116bb1410>"
      ]
     },
     "execution_count": 65,
     "metadata": {},
     "output_type": "execute_result"
    },
    {
     "data": {
      "image/png": "[encoded data removed]",
      "text/plain": [
       "<matplotlib.figure.Figure at 0x116d78f90>"
      ]
     },
     "metadata": {},
     "output_type": "display_data"
    }
   ],
   "source": [
    "sns.distplot(xsyn_df['Quality_Score'], kde=False)"
   ]
  },
  {
   "cell_type": "code",
   "execution_count": 66,
   "metadata": {
    "collapsed": false
   },
   "outputs": [
    {
     "data": {
      "text/html": [
       "<div>\n",
       "<style>\n",
       "    .dataframe thead tr:only-child th {\n",
       "        text-align: right;\n",
       "    }\n",
       "\n",
       "    .dataframe thead th {\n",
       "        text-align: left;\n",
       "    }\n",
       "\n",
       "    .dataframe tbody tr th {\n",
       "        vertical-align: top;\n",
       "    }\n",
       "</style>\n",
       "<table border=\"1\" class=\"dataframe\">\n",
       "  <thead>\n",
       "    <tr style=\"text-align: right;\">\n",
       "      <th></th>\n",
       "      <th>Core_length</th>\n",
       "      <th>Dev_from_max</th>\n",
       "      <th>Dev_from_min</th>\n",
       "      <th>Dev_from_avg</th>\n",
       "      <th>Dev_from_med</th>\n",
       "      <th>Dev_from_N50</th>\n",
       "      <th>Dev_from_L50</th>\n",
       "      <th>Quality_Score</th>\n",
       "    </tr>\n",
       "    <tr>\n",
       "      <th>ID</th>\n",
       "      <th></th>\n",
       "      <th></th>\n",
       "      <th></th>\n",
       "      <th></th>\n",
       "      <th></th>\n",
       "      <th></th>\n",
       "      <th></th>\n",
       "      <th></th>\n",
       "    </tr>\n",
       "  </thead>\n",
       "  <tbody>\n",
       "    <tr>\n",
       "      <th>_0</th>\n",
       "      <td>49</td>\n",
       "      <td>4286</td>\n",
       "      <td>18</td>\n",
       "      <td>445</td>\n",
       "      <td>305</td>\n",
       "      <td>0.059611</td>\n",
       "      <td>0.078150</td>\n",
       "      <td>0.0</td>\n",
       "    </tr>\n",
       "    <tr>\n",
       "      <th>_1</th>\n",
       "      <td>52</td>\n",
       "      <td>4283</td>\n",
       "      <td>21</td>\n",
       "      <td>442</td>\n",
       "      <td>302</td>\n",
       "      <td>0.063260</td>\n",
       "      <td>0.082935</td>\n",
       "      <td>0.0</td>\n",
       "    </tr>\n",
       "    <tr>\n",
       "      <th>_2</th>\n",
       "      <td>62</td>\n",
       "      <td>4273</td>\n",
       "      <td>31</td>\n",
       "      <td>432</td>\n",
       "      <td>292</td>\n",
       "      <td>0.075426</td>\n",
       "      <td>0.098884</td>\n",
       "      <td>0.0</td>\n",
       "    </tr>\n",
       "    <tr>\n",
       "      <th>_3</th>\n",
       "      <td>62</td>\n",
       "      <td>4273</td>\n",
       "      <td>31</td>\n",
       "      <td>432</td>\n",
       "      <td>292</td>\n",
       "      <td>0.075426</td>\n",
       "      <td>0.098884</td>\n",
       "      <td>0.0</td>\n",
       "    </tr>\n",
       "    <tr>\n",
       "      <th>_4</th>\n",
       "      <td>35</td>\n",
       "      <td>4300</td>\n",
       "      <td>4</td>\n",
       "      <td>459</td>\n",
       "      <td>319</td>\n",
       "      <td>0.042579</td>\n",
       "      <td>0.055821</td>\n",
       "      <td>0.0</td>\n",
       "    </tr>\n",
       "  </tbody>\n",
       "</table>\n",
       "</div>"
      ],
      "text/plain": [
       "    Core_length  Dev_from_max  Dev_from_min  Dev_from_avg  Dev_from_med  \\\n",
       "ID                                                                        \n",
       "_0           49          4286            18           445           305   \n",
       "_1           52          4283            21           442           302   \n",
       "_2           62          4273            31           432           292   \n",
       "_3           62          4273            31           432           292   \n",
       "_4           35          4300             4           459           319   \n",
       "\n",
       "    Dev_from_N50  Dev_from_L50  Quality_Score  \n",
       "ID                                             \n",
       "_0      0.059611      0.078150            0.0  \n",
       "_1      0.063260      0.082935            0.0  \n",
       "_2      0.075426      0.098884            0.0  \n",
       "_3      0.075426      0.098884            0.0  \n",
       "_4      0.042579      0.055821            0.0  "
      ]
     },
     "execution_count": 66,
     "metadata": {},
     "output_type": "execute_result"
    }
   ],
   "source": [
    "xsyn_df.head()"
   ]
  },
  {
   "cell_type": "code",
   "execution_count": 67,
   "metadata": {
    "collapsed": false
   },
   "outputs": [
    {
     "data": {
      "text/plain": [
       "Core_length        int64\n",
       "Dev_from_max       int64\n",
       "Dev_from_min       int64\n",
       "Dev_from_avg       int64\n",
       "Dev_from_med       int64\n",
       "Dev_from_N50     float64\n",
       "Dev_from_L50     float64\n",
       "Quality_Score    float64\n",
       "dtype: object"
      ]
     },
     "execution_count": 67,
     "metadata": {},
     "output_type": "execute_result"
    }
   ],
   "source": [
    "xsyn_df.dtypes"
   ]
  },
  {
   "cell_type": "code",
   "execution_count": 68,
   "metadata": {
    "collapsed": true
   },
   "outputs": [],
   "source": [
    "X_train, X_val, y_train, y_val = train_test_split(xsyn_df.drop('Quality_Score', axis=1), xsyn_df['Quality_Score'],\n",
    "                                                    test_size=0.3, random_state=42)\n"
   ]
  },
  {
   "cell_type": "code",
   "execution_count": 69,
   "metadata": {
    "collapsed": false
   },
   "outputs": [
    {
     "data": {
      "text/plain": [
       "LogisticRegression(C=1, class_weight=None, dual=False, fit_intercept=True,\n",
       "          intercept_scaling=1, max_iter=100, multi_class='ovr', n_jobs=1,\n",
       "          penalty='l1', random_state=None, solver='liblinear', tol=0.0001,\n",
       "          verbose=0, warm_start=False)"
      ]
     },
     "execution_count": 69,
     "metadata": {},
     "output_type": "execute_result"
    }
   ],
   "source": [
    "lr = LogisticRegression(C=1, penalty='l1')\n",
    "lr.fit(X_train, y_train)"
   ]
  },
  {
   "cell_type": "code",
   "execution_count": 70,
   "metadata": {
    "collapsed": true
   },
   "outputs": [],
   "source": [
    "preds = lr.predict(X_val)"
   ]
  },
  {
   "cell_type": "code",
   "execution_count": 148,
   "metadata": {
    "collapsed": false
   },
   "outputs": [
    {
     "name": "stdout",
     "output_type": "stream",
     "text": [
      "Fold: 0 F1 Score: 98.0437364455\n",
      "Fold: 1 F1 Score: 98.3620539092\n",
      "Fold: 2 F1 Score: 97.4698081878\n",
      "Fold: 3 F1 Score: 97.4786152333\n",
      "Fold: 4 F1 Score: 97.6233639962\n",
      "Cross Validation Score:  97.7955155544\n"
     ]
    }
   ],
   "source": [
    "score =0\n",
    "folds=5\n",
    "for i in range(folds):\n",
    "    X_train, X_val, y_train, y_val = train_test_split(xsyn_df.drop('Quality_Score', axis=1), xsyn_df['Quality_Score'],\n",
    "                                                    test_size=0.3, random_state=i)\n",
    "\n",
    "    lr = LogisticRegression(C=0.05)\n",
    "    lr.fit(X_train, y_train)\n",
    "    preds = lr.predict(X_val)\n",
    "    f1s = f1_score(y_val, preds, average='weighted')*100 \n",
    "    print \"Fold:\", i, \"F1 Score:\", f1s\n",
    "    score+=f1s\n",
    "score/=folds\n",
    "print \"Cross Validation Score: \", score\n",
    "    "
   ]
  },
  {
   "cell_type": "code",
   "execution_count": 149,
   "metadata": {
    "collapsed": false
   },
   "outputs": [
    {
     "name": "stdout",
     "output_type": "stream",
     "text": [
      "F1 Score: 99.2694475806\n"
     ]
    }
   ],
   "source": [
    "\n",
    "rf_model = RandomForestClassifier(n_estimators=10,max_depth=6, n_jobs=-1)\n",
    "rf_model.fit(X_train, y_train)\n",
    "\n",
    "preds= rf_model.predict_proba(X_val)\n",
    "\n",
    "y_preds=[]\n",
    "for i in preds:\n",
    "    y_preds.append(np.argmax(i))\n",
    "    \n",
    "print \"F1 Score:\",f1_score(y_val, y_preds, average='weighted')*100 "
   ]
  },
  {
   "cell_type": "code",
   "execution_count": 150,
   "metadata": {
    "collapsed": false
   },
   "outputs": [
    {
     "data": {
      "text/plain": [
       "<matplotlib.axes._subplots.AxesSubplot at 0x11db850d0>"
      ]
     },
     "execution_count": 150,
     "metadata": {},
     "output_type": "execute_result"
    },
    {
     "data": {
      "image/png": "[encoded data removed]",
      "text/plain": [
       "<matplotlib.figure.Figure at 0x11baaf2d0>"
      ]
     },
     "metadata": {},
     "output_type": "display_data"
    }
   ],
   "source": [
    "plt.figure(figsize=(7,6))\n",
    "plt.xlabel('Predicted')\n",
    "plt.ylabel('True')\n",
    "sns.heatmap(confusion_matrix(y_val, y_preds) , annot=True)"
   ]
  },
  {
   "cell_type": "code",
   "execution_count": 71,
   "metadata": {
    "collapsed": false
   },
   "outputs": [],
   "source": [
    "import tensorflow as tf\n",
    "\n",
    "n_input = X_train.shape[1]\n",
    "n_output= 6\n",
    "net_input = tf.placeholder(tf.float32, [None, n_input])\n",
    "\n",
    "W = tf.Variable(tf.zeros([n_input, n_output]))\n",
    "b = tf.Variable(tf.zeros([n_output]))\n",
    "net_output = tf.nn.softmax(tf.matmul(net_input, W) + b)\n",
    "y_true = tf.placeholder(tf.float32, [None, 6])\n",
    "\n",
    "cross_entropy = -tf.reduce_sum(y_true * tf.log(net_output))\n",
    "\n",
    "correct_prediction = tf.equal(\n",
    "    tf.argmax(net_output, 1), tf.argmax(y_true, 1))\n",
    "\n",
    "accuracy = tf.reduce_mean(tf.cast(correct_prediction, \"float\"))\n",
    "\n",
    "optimizer = tf.train.GradientDescentOptimizer(\n",
    "    0.01).minimize(cross_entropy)\n",
    "\n"
   ]
  },
  {
   "cell_type": "code",
   "execution_count": 72,
   "metadata": {
    "collapsed": true
   },
   "outputs": [],
   "source": [
    "\n",
    "X_train, X_val, y_train, y_val = train_test_split(xsyn_df.drop('Quality_Score', axis=1), xsyn_df['Quality_Score'],\n",
    "                                                    test_size=0.3, random_state=42)\n",
    "\n",
    "# y_trainx= tf.one_hot(y_train.values, 6)\n",
    "# y_valx= tf.one_hot(y_val.values, 6)"
   ]
  },
  {
   "cell_type": "code",
   "execution_count": 73,
   "metadata": {
    "collapsed": false
   },
   "outputs": [
    {
     "name": "stdout",
     "output_type": "stream",
     "text": [
      "WARNING:tensorflow:From /usr/local/lib/python2.7/site-packages/tensorflow/python/util/tf_should_use.py:107: initialize_all_variables (from tensorflow.python.ops.variables) is deprecated and will be removed after 2017-03-02.\n",
      "Instructions for updating:\n",
      "Use `tf.global_variables_initializer` instead.\n"
     ]
    }
   ],
   "source": [
    "sess = tf.Session()\n",
    "sess.run(tf.initialize_all_variables())"
   ]
  },
  {
   "cell_type": "code",
   "execution_count": 74,
   "metadata": {
    "collapsed": false
   },
   "outputs": [
    {
     "data": {
      "text/plain": [
       "'./model/mlp.pb'"
      ]
     },
     "execution_count": 74,
     "metadata": {},
     "output_type": "execute_result"
    }
   ],
   "source": [
    "saver = tf.train.Saver()\n",
    "tf.train.write_graph(sess.graph_def,\n",
    "                         './model/',\n",
    "                         'mlp.pb', as_text=False)"
   ]
  },
  {
   "cell_type": "code",
   "execution_count": 75,
   "metadata": {
    "collapsed": false
   },
   "outputs": [],
   "source": [
    "a=np.array(y_train.values, dtype=np.int32)\n",
    "n_values = np.max(a) + 1\n",
    "y_trainx=np.eye(n_values)[a]"
   ]
  },
  {
   "cell_type": "code",
   "execution_count": 76,
   "metadata": {
    "collapsed": false
   },
   "outputs": [],
   "source": [
    "a=np.array(y_val.values, dtype=np.int32)\n",
    "n_values = np.max(a) + 1\n",
    "y_valx=np.eye(n_values)[a]"
   ]
  },
  {
   "cell_type": "code",
   "execution_count": 77,
   "metadata": {
    "collapsed": false
   },
   "outputs": [
    {
     "data": {
      "text/plain": [
       "5"
      ]
     },
     "execution_count": 77,
     "metadata": {},
     "output_type": "execute_result"
    }
   ],
   "source": [
    "np.max(a)"
   ]
  },
  {
   "cell_type": "code",
   "execution_count": 78,
   "metadata": {
    "collapsed": true
   },
   "outputs": [],
   "source": [
    "y_valz =y_val.values-1\n"
   ]
  },
  {
   "cell_type": "code",
   "execution_count": null,
   "metadata": {
    "collapsed": false
   },
   "outputs": [],
   "source": [
    "data= X_train.values\n",
    "batch_size=10\n",
    "n_epochs = 10\n",
    "for epoch_i in range(n_epochs):\n",
    "    for batch_i in range(X_train.shape[0] // batch_size):\n",
    "        batch_xs = X_train.values[batch_i*batch_size:(batch_i+1)*batch_size]\n",
    "        batch_ys= y_trainx[batch_i*batch_size:(batch_i+1)*batch_size]\n",
    "        sess.run(optimizer, feed_dict={\n",
    "            net_input: batch_xs,\n",
    "            y_true: batch_ys\n",
    "        })\n",
    "    print(sess.run(accuracy,\n",
    "                   feed_dict={\n",
    "                       net_input: X_val,\n",
    "                       y_true: y_valx\n",
    "                   }))"
   ]
  },
  {
   "cell_type": "code",
   "execution_count": 80,
   "metadata": {
    "collapsed": false
   },
   "outputs": [
    {
     "data": {
      "text/plain": [
       "'./model/tf_model-1000'"
      ]
     },
     "execution_count": 80,
     "metadata": {},
     "output_type": "execute_result"
    }
   ],
   "source": [
    "saver.save(sess, './model/tf_model',global_step=1000)"
   ]
  }
 ],
 "metadata": {
  "kernelspec": {
   "display_name": "Python 2",
   "language": "python",
   "name": "python2"
  },
  "language_info": {
   "codemirror_mode": {
    "name": "ipython",
    "version": 2
   },
   "file_extension": ".py",
   "mimetype": "text/x-python",
   "name": "python",
   "nbconvert_exporter": "python",
   "pygments_lexer": "ipython2",
   "version": "2.7.11"
  }
 },
 "nbformat": 4,
 "nbformat_minor": 2
}
